{
 "cells": [
  {
   "cell_type": "code",
   "execution_count": 1,
   "id": "899974d3",
   "metadata": {},
   "outputs": [],
   "source": [
    "#importing the libraries\n",
    "\n",
    "import pandas as pd\n",
    "import numpy as np\n",
    "import matplotlib.pyplot as plt\n",
    "import seaborn as sns"
   ]
  },
  {
   "cell_type": "code",
   "execution_count": null,
   "id": "029329f8",
   "metadata": {},
   "outputs": [],
   "source": [
    "df=pd.read_csv('data_final.csv')"
   ]
  },
  {
   "cell_type": "code",
   "execution_count": null,
   "id": "b231a70e",
   "metadata": {},
   "outputs": [],
   "source": [
    "df.head()"
   ]
  },
  {
   "cell_type": "code",
   "execution_count": null,
   "id": "dcaed9d0",
   "metadata": {},
   "outputs": [],
   "source": [
    "df"
   ]
  },
  {
   "cell_type": "code",
   "execution_count": null,
   "id": "115f8517",
   "metadata": {},
   "outputs": [],
   "source": [
    "df.describe()"
   ]
  },
  {
   "cell_type": "code",
   "execution_count": null,
   "id": "16d3d3a5",
   "metadata": {},
   "outputs": [],
   "source": [
    "df.shape"
   ]
  },
  {
   "cell_type": "code",
   "execution_count": null,
   "id": "4f74470b",
   "metadata": {},
   "outputs": [],
   "source": [
    "from sklearn import linear_model\n",
    "from sklearn .preprocessing import PolynomialFeatures\n"
   ]
  },
  {
   "cell_type": "code",
   "execution_count": null,
   "id": "d9321f6a",
   "metadata": {},
   "outputs": [],
   "source": [
    "features, rows=map(int, input().split())"
   ]
  },
  {
   "cell_type": "code",
   "execution_count": null,
   "id": "e31df78d",
   "metadata": {},
   "outputs": [],
   "source": [
    "X,Y=[],[]"
   ]
  },
  {
   "cell_type": "code",
   "execution_count": null,
   "id": "35f760b2",
   "metadata": {},
   "outputs": [],
   "source": [
    "for i in range (rows):\n",
    "    x=[0]\n",
    "    elements=list(map(float, input().split()))\n",
    "    for j in range (len(elements)):\n",
    "        if j < features:\n",
    "            x.append(elements[j])\n",
    "        else:\n",
    "            Y.append(elements[j])\n",
    "    X.append(x)    "
   ]
  },
  {
   "cell_type": "code",
   "execution_count": null,
   "id": "b55886e0",
   "metadata": {},
   "outputs": [],
   "source": [
    "poly=PolynomialFeatures(degree=4)"
   ]
  },
  {
   "cell_type": "code",
   "execution_count": null,
   "id": "a2e0b964",
   "metadata": {},
   "outputs": [],
   "source": [
    "m=linear_model.LinearRegression()"
   ]
  },
  {
   "cell_type": "code",
   "execution_count": null,
   "id": "21213b5a",
   "metadata": {},
   "outputs": [],
   "source": [
    "m.fit(poly.fit_transform(np.array(X)),Y)"
   ]
  },
  {
   "cell_type": "code",
   "execution_count": null,
   "id": "b2712465",
   "metadata": {},
   "outputs": [],
   "source": [
    "new=int(input())\n",
    "new_X=[]"
   ]
  },
  {
   "cell_type": "code",
   "execution_count": null,
   "id": "95c71aea",
   "metadata": {},
   "outputs": [],
   "source": [
    "for i in range (new):\n",
    "    x=[0]\n",
    "    elements=list(map(float, input().split()))"
   ]
  },
  {
   "cell_type": "code",
   "execution_count": null,
   "id": "539a7c94",
   "metadata": {},
   "outputs": [],
   "source": [
    "for j in range (len(elements)):\n",
    "    x.append(elements[j])\n",
    "new_X.append(x)"
   ]
  },
  {
   "cell_type": "code",
   "execution_count": null,
   "id": "aece0628",
   "metadata": {},
   "outputs": [],
   "source": [
    "result=m.predict(poly.fit_transform(np.array(new_X)))"
   ]
  },
  {
   "cell_type": "code",
   "execution_count": null,
   "id": "2dd21850",
   "metadata": {},
   "outputs": [],
   "source": [
    "for i in range (len(result)):\n",
    "    print(round(result[i]),2)"
   ]
  },
  {
   "cell_type": "code",
   "execution_count": null,
   "id": "e15dff76",
   "metadata": {},
   "outputs": [],
   "source": []
  }
 ],
 "metadata": {
  "kernelspec": {
   "display_name": "Python 3 (ipykernel)",
   "language": "python",
   "name": "python3"
  },
  "language_info": {
   "codemirror_mode": {
    "name": "ipython",
    "version": 3
   },
   "file_extension": ".py",
   "mimetype": "text/x-python",
   "name": "python",
   "nbconvert_exporter": "python",
   "pygments_lexer": "ipython3",
   "version": "3.9.13"
  }
 },
 "nbformat": 4,
 "nbformat_minor": 5
}
